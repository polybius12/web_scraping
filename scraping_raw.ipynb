{
 "cells": [
  {
   "cell_type": "markdown",
   "id": "55733d9c-57ec-4f23-ab5d-ff125405293c",
   "metadata": {},
   "source": [
    "## script COTO"
   ]
  },
  {
   "cell_type": "code",
   "execution_count": 12,
   "id": "d977dc1c-8fba-4498-9771-ce09b88059ac",
   "metadata": {
    "tags": []
   },
   "outputs": [],
   "source": [
    "articulos ={'Salamin': 'https://www.cotodigital3.com.ar/sitios/cdigi/producto/-salamin-tandfin-cagnoli-xkg/_/A-00080962-00080962-200', \n",
    "           'Cerveza': 'https://www.cotodigital3.com.ar/sitios/cdigi/producto/-cerveza-lager-stella-artois---lata-473-cc/_/A-00230474-00230474-200', \n",
    "           'papa_fritas': 'https://www.cotodigital3.com.ar/sitios/cdigi/producto/-papas-fritas-clasicas-lays-40g/_/A-00567578-00567578-200',\n",
    "            'jumbo_cerveza': 'https://www.jumbo.com.ar/cerveza-andes-origen-roja-botella-retornable-1ltx1/p',\n",
    "            'andes_carrefour' : 'https://www.carrefour.com.ar/cerveza-rubia-andes-origen-473-cc/p'\n",
    "           }"
   ]
  },
  {
   "cell_type": "code",
   "execution_count": null,
   "id": "70e86f02-68a0-43b0-914e-d012d03bd9e3",
   "metadata": {
    "tags": []
   },
   "outputs": [],
   "source": [
    "from bs4 import BeautifulSoup\n",
    "import requests\n",
    "\n",
    "# The URL of the page to scrape\n",
    "lista_items = []\n",
    "\n",
    "for url in articulos.values():    \n",
    "\n",
    "    # Send a GET request to the website\n",
    "    headers = {'User-Agent': 'Mozilla/5.0 (X11; Linux x86_64) AppleWebKit/537.36 (KHTML, like Gecko) Chrome/51.0.2704.103 Safari/537.36'}\n",
    "    response = requests.get(url, headers=headers)\n",
    "\n",
    "    # Parse the HTML content of the page with BeautifulSoup\n",
    "    soup = BeautifulSoup(response.content, 'html.parser')\n",
    "\n",
    "    # Find the product name and price using the known classes\n",
    "    product_name = soup.find('h1', class_='product_page').get_text(strip=True)\n",
    "    product_price = soup.find('span', class_='atg_store_newPrice').get_text(strip=True).replace('$', '').replace('.', '').replace(',', '.')\n",
    "\n",
    "    # Print the results\n",
    "    print(f'Product Name: {product_name}')\n",
    "    print(f'Price: {product_price}')\n",
    "    \n",
    "    lista_items.append((product_name, product_price))   \n"
   ]
  },
  {
   "cell_type": "code",
   "execution_count": null,
   "id": "a0a95962-5cb4-4c23-beef-33828a81d937",
   "metadata": {
    "tags": []
   },
   "outputs": [],
   "source": [
    "headers = {'User-Agent': 'Mozilla/5.0 (X11; Linux x86_64) AppleWebKit/537.36 (KHTML, like Gecko) Chrome/51.0.2704.103 Safari/537.36'}\n",
    "response = requests.get(url, headers=headers)\n",
    "\n",
    "# Parse the HTML content of the page with BeautifulSoup\n",
    "soup = BeautifulSoup(response.content, 'html.parser')\n",
    "\n",
    "# Find the product name and price using the known classes\n",
    "product_name = soup.find('h1', class_='product_page').get_text(strip=True)\n",
    "product_price = soup.find('span', class_='atg_store_newPrice').get_text(strip=True).replace('$', '').replace('.', '').replace(',', '.')\n",
    "\n",
    "# Print the results\n",
    "print(f'Product Name: {product_name}')\n",
    "print(f'Price: {product_price}')\n",
    "\n",
    "lista_items.append((product_name, product_price))   "
   ]
  },
  {
   "cell_type": "markdown",
   "id": "6debd5b0-940a-402a-8e35-a89ea9782c20",
   "metadata": {},
   "source": [
    "## Script jumbo"
   ]
  },
  {
   "cell_type": "code",
   "execution_count": 14,
   "id": "9f93007e-e682-4095-8a14-7098ca54c31b",
   "metadata": {
    "tags": []
   },
   "outputs": [
    {
     "name": "stdout",
     "output_type": "stream",
     "text": [
      "Product Name: Cerveza Andes Rubia en lata 473 Ml.\n",
      "Price: 1000\n"
     ]
    }
   ],
   "source": [
    "import requests\n",
    "from bs4 import BeautifulSoup\n",
    "import json\n",
    "\n",
    "# The URL of the page to scrape\n",
    "url = 'https://diaonline.supermercadosdia.com.ar/cerveza-andes-rubia-en-lata-473-ml-257349/p'\n",
    "\n",
    "# Send a GET request to the website\n",
    "headers = {\n",
    "    'User-Agent': 'Mozilla/5.0 (X11; Linux x86_64) AppleWebKit/537.36 (KHTML, like Gecko) Chrome/51.0.2704.103 Safari/537.36'}\n",
    "response = requests.get(url, headers=headers)\n",
    "\n",
    "# Check if the request was successful\n",
    "if response.status_code == 200:\n",
    "    # Parse the HTML content of the page with BeautifulSoup\n",
    "    soup = BeautifulSoup(response.content, 'html.parser')\n",
    "    \n",
    "    # Find the script tag with type \"application/ld+json\"\n",
    "    script = soup.find('script', {'type': 'application/ld+json'})\n",
    "    if script:\n",
    "        # Parse the JSON data\n",
    "        data = json.loads(script.string)\n",
    "        \n",
    "        # Extract the product name and price\n",
    "        product_name = data.get('name')\n",
    "        # Here we use 'lowPrice' based on your previous screenshot. If necessary, adjust the key according to your actual data structure.\n",
    "        price = data.get('offers', {}).get('lowPrice')\n",
    "\n",
    "        # Print the results\n",
    "        print(f'Product Name: {product_name}')\n",
    "        print(f'Price: {price}')\n",
    "    else:\n",
    "        print('Product data in JSON-LD format not found.')\n",
    "else:\n",
    "    print(f'Failed to retrieve webpage, status code: {response.status_code}')\n"
   ]
  },
  {
   "cell_type": "code",
   "execution_count": null,
   "id": "b7df5523-fb86-45eb-aa2b-1078076029da",
   "metadata": {},
   "outputs": [],
   "source": []
  }
 ],
 "metadata": {
  "kernelspec": {
   "display_name": "Python 3 (ipykernel)",
   "language": "python",
   "name": "python3"
  },
  "language_info": {
   "codemirror_mode": {
    "name": "ipython",
    "version": 3
   },
   "file_extension": ".py",
   "mimetype": "text/x-python",
   "name": "python",
   "nbconvert_exporter": "python",
   "pygments_lexer": "ipython3",
   "version": "3.10.10"
  }
 },
 "nbformat": 4,
 "nbformat_minor": 5
}
