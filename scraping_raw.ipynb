{
 "cells": [
  {
   "cell_type": "markdown",
   "id": "55733d9c-57ec-4f23-ab5d-ff125405293c",
   "metadata": {},
   "source": [
    "# script COTO"
   ]
  },
  {
   "cell_type": "code",
   "execution_count": 40,
   "id": "7d7f23f8-b66e-4a36-a794-c807a13abef2",
   "metadata": {
    "tags": []
   },
   "outputs": [],
   "source": [
    "import pandas as pd"
   ]
  },
  {
   "cell_type": "code",
   "execution_count": 41,
   "id": "d977dc1c-8fba-4498-9771-ce09b88059ac",
   "metadata": {
    "tags": []
   },
   "outputs": [],
   "source": [
    "articulos = {'coto':\n",
    "                {'salamin': 'https://www.cotodigital3.com.ar/sitios/cdigi/producto/-salamin-tandfin-cagnoli-xkg/_/A-00080962-00080962-200', \n",
    "                'cerveza': 'https://www.cotodigital3.com.ar/sitios/cdigi/producto/-cerveza-fresquita-andes-origen-473-ml/_/A-00545197-00545197-200', \n",
    "                'papa_fritas': 'https://www.cotodigital3.com.ar/sitios/cdigi/producto/-papas-fritas-clasicas-lays-40g/_/A-00567578-00567578-200'\n",
    "                },\n",
    "            'jumbo':\n",
    "                {'cerveza': 'https://www.jumbo.com.ar/cerveza-andes-origen-roja-botella-retornable-1ltx1/p'\n",
    "                \n",
    "                },                  \n",
    "            'carrefour': \n",
    "                {'cerveza': 'https://www.carrefour.com.ar/cerveza-rubia-andes-origen-473-cc/p'}\n",
    "           }"
   ]
  },
  {
   "cell_type": "code",
   "execution_count": 42,
   "id": "64ecaac2-38f9-4b82-ad6d-76012ce22f6d",
   "metadata": {
    "tags": []
   },
   "outputs": [],
   "source": [
    "# def get_coto(url):\n",
    "    \n",
    "#     headers = {'User-Agent': 'Mozilla/5.0 (X11; Linux x86_64) AppleWebKit/537.36 (KHTML, like Gecko) Chrome/51.0.2704.103 Safari/537.36'}    \n",
    "#     response = requests.get(url, headers=headers)\n",
    "    \n",
    "#     soup = BeautifulSoup(response.content, 'html.parser')\n",
    "    \n",
    "#     product_name = soup.find('h1', class_='product_page').get_text(strip=True)\n",
    "#     product_price = soup.find('span', class_='atg_store_newPrice').get_text(strip=True).replace('$', '').replace('.', '').replace(',', '.')\n",
    "\n",
    "#     print(f'Product Name: {product_name}')\n",
    "#     print(f'Price: {product_price}')\n",
    "#     return product_price\n",
    "\n",
    "def get_coto(url):\n",
    "    headers = {\n",
    "        'User-Agent': 'Mozilla/5.0 (X11; Linux x86_64) AppleWebKit/537.36 (KHTML, like Gecko) Chrome/51.0.2704.103 Safari/537.36'\n",
    "    }\n",
    "    \n",
    "    try:\n",
    "        response = requests.get(url, headers=headers)        \n",
    "        if response.status_code == 200:\n",
    "            soup = BeautifulSoup(response.content, 'html.parser')\n",
    "            \n",
    "            product_name = soup.find('h1', class_='product_page').get_text(strip=True)\n",
    "            product_price = soup.find('span', class_='atg_store_newPrice').get_text(strip=True).replace('$', '').replace('.', '').replace(',', '.')\n",
    "            \n",
    "            print(f'Product Name: {product_name}')\n",
    "            print(f'Price: {product_price}')\n",
    "            return product_price\n",
    "        \n",
    "        else:\n",
    "            print(f'Failed to retrieve webpage, status code: {response.status_code}')\n",
    "            return None\n",
    "    \n",
    "    except requests.RequestException as e:\n",
    "        print(f'Request failed: {e}')\n",
    "        return None\n",
    "    \n",
    "    \n",
    "def get_jumbo(url):    \n",
    "    \n",
    "    headers = {'User-Agent': 'Mozilla/5.0 (X11; Linux x86_64) AppleWebKit/537.36 (KHTML, like Gecko) Chrome/51.0.2704.103 Safari/537.36'}\n",
    "    response = requests.get(url, headers=headers)\n",
    "\n",
    "    if response.status_code == 200:\n",
    "        soup = BeautifulSoup(response.content, 'html.parser')\n",
    "        script = soup.find('script', {'type': 'application/ld+json'})\n",
    "        \n",
    "        if script:\n",
    "            data = json.loads(script.string)\n",
    "            product_name = data.get('name')\n",
    "            product_price = data.get('offers', {}).get('lowPrice')\n",
    "\n",
    "            print(f'Product Name: {product_name}')\n",
    "            print(f'Price: {product_price}')\n",
    "            return product_price\n",
    "        \n",
    "        else:\n",
    "            print('Product data in JSON-LD format not found.')\n",
    "    else:\n",
    "        print(f'Failed to retrieve webpage, status code: {response.status_code}')\n",
    "        \n",
    "        \n",
    "def create_df(articulos, product_key):\n",
    "    data_dict = {}\n",
    "    \n",
    "    store_function_mapping = {\n",
    "        'coto': get_coto,\n",
    "        'jumbo': get_jumbo,\n",
    "        'carrefour': get_jumbo\n",
    "    }\n",
    "    \n",
    "    for store, products in articulos.items():\n",
    "        if product_key in products:\n",
    "            \n",
    "            if store in store_function_mapping:  \n",
    "                get_function = store_function_mapping[store]\n",
    "                product_price = get_function(products[product_key])\n",
    "                data_dict[store] = product_price\n",
    "                \n",
    "    df = pd.DataFrame([data_dict])\n",
    "    \n",
    "    return df"
   ]
  },
  {
   "cell_type": "code",
   "execution_count": 43,
   "id": "5c9e6bfd-4483-4cd6-adc3-1da3e9b61de1",
   "metadata": {
    "tags": []
   },
   "outputs": [
    {
     "name": "stdout",
     "output_type": "stream",
     "text": [
      "Product Name: Cerveza Fresquita Andes Origen 473 Ml\n",
      "Price: 1499.00\n",
      "Product Name: Cerveza Andes Origen Roja Botella Retornable 1ltx1\n",
      "Price: 2712\n",
      "Product Name: Cerveza rubia Andes Origen 473 cc.\n",
      "Price: 1119.3\n"
     ]
    },
    {
     "data": {
      "text/html": [
       "<div>\n",
       "<style scoped>\n",
       "    .dataframe tbody tr th:only-of-type {\n",
       "        vertical-align: middle;\n",
       "    }\n",
       "\n",
       "    .dataframe tbody tr th {\n",
       "        vertical-align: top;\n",
       "    }\n",
       "\n",
       "    .dataframe thead th {\n",
       "        text-align: right;\n",
       "    }\n",
       "</style>\n",
       "<table border=\"1\" class=\"dataframe\">\n",
       "  <thead>\n",
       "    <tr style=\"text-align: right;\">\n",
       "      <th></th>\n",
       "      <th>coto</th>\n",
       "      <th>jumbo</th>\n",
       "      <th>carrefour</th>\n",
       "    </tr>\n",
       "  </thead>\n",
       "  <tbody>\n",
       "    <tr>\n",
       "      <th>0</th>\n",
       "      <td>1499.00</td>\n",
       "      <td>2712</td>\n",
       "      <td>1119.3</td>\n",
       "    </tr>\n",
       "  </tbody>\n",
       "</table>\n",
       "</div>"
      ],
      "text/plain": [
       "      coto  jumbo  carrefour\n",
       "0  1499.00   2712     1119.3"
      ]
     },
     "execution_count": 43,
     "metadata": {},
     "output_type": "execute_result"
    }
   ],
   "source": [
    "df_cerveza_prices = create_df(articulos, 'cerveza')\n",
    "df_cerveza_prices"
   ]
  },
  {
   "cell_type": "code",
   "execution_count": null,
   "id": "85ff5dd9-4441-45e8-ac5c-95348d263a11",
   "metadata": {},
   "outputs": [],
   "source": []
  }
 ],
 "metadata": {
  "kernelspec": {
   "display_name": "Python 3 (ipykernel)",
   "language": "python",
   "name": "python3"
  },
  "language_info": {
   "codemirror_mode": {
    "name": "ipython",
    "version": 3
   },
   "file_extension": ".py",
   "mimetype": "text/x-python",
   "name": "python",
   "nbconvert_exporter": "python",
   "pygments_lexer": "ipython3",
   "version": "3.10.10"
  }
 },
 "nbformat": 4,
 "nbformat_minor": 5
}
